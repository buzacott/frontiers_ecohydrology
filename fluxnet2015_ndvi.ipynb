{
  "nbformat": 4,
  "nbformat_minor": 0,
  "metadata": {
    "colab": {
      "name": "fluxnet2015_ndvi.ipynb",
      "provenance": [],
      "collapsed_sections": [],
      "authorship_tag": "ABX9TyMD0arK3cvUJFiMjlDZTL8L",
      "include_colab_link": true
    },
    "kernelspec": {
      "name": "python3",
      "display_name": "Python 3"
    },
    "language_info": {
      "name": "python"
    }
  },
  "cells": [
    {
      "cell_type": "markdown",
      "metadata": {
        "id": "view-in-github",
        "colab_type": "text"
      },
      "source": [
        "<a href=\"https://colab.research.google.com/github/buzacott/frontiers_ecohydrology/blob/main/fluxnet2015_ndvi.ipynb\" target=\"_parent\"><img src=\"https://colab.research.google.com/assets/colab-badge.svg\" alt=\"Open In Colab\"/></a>"
      ]
    },
    {
      "cell_type": "markdown",
      "source": [
        "# Extract NDVI at FLUXNET2015 sites"
      ],
      "metadata": {
        "id": "cjRBB3-SfiK7"
      }
    },
    {
      "cell_type": "code",
      "source": [
        "import pandas as pd\n",
        "import numpy as np\n",
        "import datetime as dt\n",
        "import time"
      ],
      "metadata": {
        "id": "CxO0a14EgA1Y"
      },
      "execution_count": null,
      "outputs": []
    },
    {
      "cell_type": "markdown",
      "source": [
        "BADM (Biological, Ancillary, Disturbance, and Metadata) contain Site General Info, Canopy Height, and Variable Info\n",
        "\n",
        "Read in BADM data and extract locations"
      ],
      "metadata": {
        "id": "Vux52ESSqppM"
      }
    },
    {
      "cell_type": "code",
      "source": [
        "badm = pd.read_csv('https://raw.githubusercontent.com/buzacott/frontiers_ecohydrology/main/data/fluxnet2015_badm_monthly.csv')\n",
        "\n",
        "# Lat/lon\n",
        "location = badm.query('VARIABLE_GROUP == \"GRP_LOCATION\"') \\\n",
        "               .pivot(index=['SITE_ID', 'GROUP_ID'],\n",
        "                      columns = 'VARIABLE',\n",
        "                      values = 'DATAVALUE') \\\n",
        "               .reset_index()\n",
        "location.drop_duplicates(subset='SITE_ID', inplace=True)\n",
        "\n",
        "location.head()"
      ],
      "metadata": {
        "id": "ZJHB6TslqncV"
      },
      "execution_count": null,
      "outputs": []
    },
    {
      "cell_type": "markdown",
      "source": [
        "Extract key variables"
      ],
      "metadata": {
        "id": "9io95g0PA9Ry"
      }
    },
    {
      "cell_type": "code",
      "source": [
        "# Update dtypes, infer_objects() does not work\n",
        "def update_dtypes(df):\n",
        "  cols = df.columns\n",
        "  for c in cols:\n",
        "      try:\n",
        "          df[c] = pd.to_numeric(df[c])\n",
        "      except:\n",
        "          pass\n",
        "  return df\n",
        "\n",
        "location = update_dtypes(location)"
      ],
      "metadata": {
        "id": "QScQUn4I4MED"
      },
      "execution_count": null,
      "outputs": []
    },
    {
      "cell_type": "markdown",
      "source": [
        "## Get NDVI from Google Earth Engine"
      ],
      "metadata": {
        "id": "PLLET8wbpnPY"
      }
    },
    {
      "cell_type": "code",
      "source": [
        "import ee\n",
        "ee.Authenticate()\n",
        "ee.Initialize()"
      ],
      "metadata": {
        "id": "8JSFJd32qkVv"
      },
      "execution_count": null,
      "outputs": []
    },
    {
      "cell_type": "markdown",
      "source": [
        "Mapping with Folium\n",
        "\n",
        "https://colab.research.google.com/github/giswqs/qgis-earthengine-examples/blob/master/Folium/ee-api-folium-setup.ipynb"
      ],
      "metadata": {
        "id": "jE1HZrP7C7c1"
      }
    },
    {
      "cell_type": "code",
      "source": [
        "import folium\n",
        "from folium import plugins\n",
        "\n",
        "# Add custom basemaps to folium\n",
        "basemaps = {\n",
        "    'Google Maps': folium.TileLayer(\n",
        "        tiles = 'https://mt1.google.com/vt/lyrs=m&x={x}&y={y}&z={z}',\n",
        "        attr = 'Google',\n",
        "        name = 'Google Maps',\n",
        "        overlay = True,\n",
        "        control = True\n",
        "    ),\n",
        "    'Google Satellite': folium.TileLayer(\n",
        "        tiles = 'https://mt1.google.com/vt/lyrs=s&x={x}&y={y}&z={z}',\n",
        "        attr = 'Google',\n",
        "        name = 'Google Satellite',\n",
        "        overlay = True,\n",
        "        control = True\n",
        "    ),\n",
        "    'Google Terrain': folium.TileLayer(\n",
        "        tiles = 'https://mt1.google.com/vt/lyrs=p&x={x}&y={y}&z={z}',\n",
        "        attr = 'Google',\n",
        "        name = 'Google Terrain',\n",
        "        overlay = True,\n",
        "        control = True\n",
        "    ),\n",
        "    'Google Satellite Hybrid': folium.TileLayer(\n",
        "        tiles = 'https://mt1.google.com/vt/lyrs=y&x={x}&y={y}&z={z}',\n",
        "        attr = 'Google',\n",
        "        name = 'Google Satellite',\n",
        "        overlay = True,\n",
        "        control = True\n",
        "    ),\n",
        "    'Esri Satellite': folium.TileLayer(\n",
        "        tiles = 'https://server.arcgisonline.com/ArcGIS/rest/services/World_Imagery/MapServer/tile/{z}/{y}/{x}',\n",
        "        attr = 'Esri',\n",
        "        name = 'Esri Satellite',\n",
        "        overlay = True,\n",
        "        control = True\n",
        "    )\n",
        "}\n",
        "\n",
        "# Define a method for displaying Earth Engine image tiles on a folium map.\n",
        "def add_ee_layer(self, ee_object, vis_params, name):\n",
        "    \n",
        "    try:    \n",
        "        # display ee.Image()\n",
        "        if isinstance(ee_object, ee.image.Image):    \n",
        "            map_id_dict = ee.Image(ee_object).getMapId(vis_params)\n",
        "            folium.raster_layers.TileLayer(\n",
        "            tiles = map_id_dict['tile_fetcher'].url_format,\n",
        "            attr = 'Google Earth Engine',\n",
        "            name = name,\n",
        "            overlay = True,\n",
        "            control = True\n",
        "            ).add_to(self)\n",
        "        # display ee.ImageCollection()\n",
        "        elif isinstance(ee_object, ee.imagecollection.ImageCollection):    \n",
        "            ee_object_new = ee_object.mosaic()\n",
        "            map_id_dict = ee.Image(ee_object_new).getMapId(vis_params)\n",
        "            folium.raster_layers.TileLayer(\n",
        "            tiles = map_id_dict['tile_fetcher'].url_format,\n",
        "            attr = 'Google Earth Engine',\n",
        "            name = name,\n",
        "            overlay = True,\n",
        "            control = True\n",
        "            ).add_to(self)\n",
        "        # display ee.Geometry()\n",
        "        elif isinstance(ee_object, ee.geometry.Geometry):    \n",
        "            folium.GeoJson(\n",
        "            data = ee_object.getInfo(),\n",
        "            name = name,\n",
        "            overlay = True,\n",
        "            control = True\n",
        "        ).add_to(self)\n",
        "        # display ee.FeatureCollection()\n",
        "        # elif isinstance(ee_object, ee.featurecollection.FeatureCollection):  \n",
        "        #     ee_object_new = ee.Image().paint(ee_object, 0, 2)\n",
        "        #     map_id_dict = ee.Image(ee_object_new).getMapId(vis_params)\n",
        "        #     folium.raster_layers.TileLayer(\n",
        "        #     tiles = map_id_dict['tile_fetcher'].url_format,\n",
        "        #     attr = 'Google Earth Engine',\n",
        "        #     name = name,\n",
        "        #     overlay = True,\n",
        "        #     control = True\n",
        "        # ).add_to(self)\n",
        "        elif isinstance(ee_object, ee.featurecollection.FeatureCollection):  \n",
        "            map_id_dict = ee_object.getMapId(vis_params)\n",
        "            folium.raster_layers.TileLayer(\n",
        "            tiles = map_id_dict['tile_fetcher'].url_format,\n",
        "            attr = 'Google Earth Engine',\n",
        "            name = name,\n",
        "            overlay = True,\n",
        "            control = True\n",
        "        ).add_to(self)\n",
        "    \n",
        "    except:\n",
        "        print(\"Could not display {}\".format(name))\n",
        "\n",
        "# Add EE drawing method to folium.\n",
        "folium.Map.add_ee_layer = add_ee_layer"
      ],
      "metadata": {
        "id": "cnf-hyIXQpdl"
      },
      "execution_count": null,
      "outputs": []
    },
    {
      "cell_type": "markdown",
      "source": [
        "Google Earth Engine set up complete\n",
        "\n",
        "### Extract NDVI"
      ],
      "metadata": {
        "id": "ZA3e8bL9Q07V"
      }
    },
    {
      "cell_type": "code",
      "source": [
        "# Create GEE feature collection of points\n",
        "features = []\n",
        "for index, row in location.iterrows():\n",
        "  features.append(ee.Feature(ee.Geometry.Point([row['LOCATION_LONG'], row['LOCATION_LAT']]),\n",
        "                             {'SITE_ID': row['SITE_ID']}))\n",
        "fc = ee.FeatureCollection(features)\n",
        "# To verify you can run\n",
        "# fc.getInfo()"
      ],
      "metadata": {
        "id": "yxlp31T13w7B"
      },
      "execution_count": null,
      "outputs": []
    },
    {
      "cell_type": "code",
      "source": [
        "# Buffer points in case they are on the edge of pixel\n",
        "fc_buf = fc.map(lambda f: f.buffer(50))"
      ],
      "metadata": {
        "id": "-ci6mbv5IwO_"
      },
      "execution_count": null,
      "outputs": []
    },
    {
      "cell_type": "code",
      "source": [
        "# Load MODIS dataset\n",
        "dataset = ee.ImageCollection('MODIS/061/MOD13Q1') \\\n",
        "            .filter(ee.Filter.date('2000-01-01', '2015-01-01'));\n",
        "\n",
        "def applyBitMask(img):\n",
        "  # Get QA band\n",
        "  qa = img.select('SummaryQA')\n",
        "  # 0 or 1 in bits 0-1 indicates good or marginal data\n",
        "  mask = qa.bitwiseAnd(1 << 1).lte(1)\n",
        "  return img.updateMask(mask)\n",
        "\n",
        "# Apply QC mask\n",
        "dataset = dataset.map(applyBitMask)\n",
        "\n",
        "ndvi = dataset.select('NDVI') "
      ],
      "metadata": {
        "id": "hC64SPTh8_oF"
      },
      "execution_count": null,
      "outputs": []
    },
    {
      "cell_type": "code",
      "source": [
        "# Create a folium map object\n",
        "my_map = folium.Map(location=[52.3, 4.8], zoom_start=5, height=500)\n",
        "\n",
        "# Add custom basemap\n",
        "basemaps['Google Satellite'].add_to(my_map)\n",
        "\n",
        "# Add NDVI layer\n",
        "ndvi_vis = {\n",
        "  'min': 0.0,\n",
        "  'max': 9000.0, # NDVI needs to be scaled by 0.0001\n",
        "  'palette': [\n",
        "    'FFFFFF', 'CE7E45', 'DF923D', 'F1B555', 'FCD163', '99B718', '74A901',\n",
        "    '66A000', '529400', '3E8601', '207401', '056201', '004C00', '023B01',\n",
        "    '012E01', '011D01', '011301'\n",
        "  ]\n",
        "}\n",
        "my_map.add_ee_layer(ndvi.first(), ndvi_vis, 'NDVI')\n",
        "my_map.add_ee_layer(fc, {'color': 'red'}, 'FluxnetSites')\n",
        "#mapid = fc.getMapId()\n",
        "\n",
        "# Add a layer control panel to the map\n",
        "my_map.add_child(folium.LayerControl())\n",
        "\n",
        "# Add fullscreen button\n",
        "plugins.Fullscreen().add_to(my_map)\n",
        "\n",
        "# Display the map\n",
        "display(my_map)"
      ],
      "metadata": {
        "id": "elc5XSDJDU5z"
      },
      "execution_count": null,
      "outputs": []
    },
    {
      "cell_type": "code",
      "source": [
        "# Iterate over image collection and get NDVI at fluxnet sites\n",
        "def get_ndvi_mean(img):\n",
        "  date = ee.Date(img.get('system:time_start')).format('YYYY-MM-dd');\n",
        "\n",
        "  mean = img.reduceRegions(fc, ee.Reducer.mean(), 250) \\\n",
        "            .map(lambda f: f.set({'date': date}).setGeometry(None))\n",
        "  return mean\n",
        "\n",
        "ndvi_ts = ndvi.map(get_ndvi_mean).flatten()"
      ],
      "metadata": {
        "id": "LZp8LPxvDcJ6"
      },
      "execution_count": null,
      "outputs": []
    },
    {
      "cell_type": "code",
      "source": [
        "task = ee.batch.Export.table.toDrive(**{\n",
        "    'collection': ndvi_ts,\n",
        "    'description': 'fluxnet2015_modis_ndvi',\n",
        "    'fileFormat': 'CSV',\n",
        "    'selectors': ['SITE_ID', 'date', 'mean']\n",
        "});"
      ],
      "metadata": {
        "id": "bZBqfjmkFEUL"
      },
      "execution_count": null,
      "outputs": []
    },
    {
      "cell_type": "code",
      "source": [
        "task.start()\n",
        "\n",
        "while task.active():\n",
        "  print('Polling for task (id: {}).'.format(task.id))\n",
        "  time.sleep(30)"
      ],
      "metadata": {
        "id": "0p5KCxNZKhj8"
      },
      "execution_count": null,
      "outputs": []
    }
  ]
}